{
  "nbformat": 4,
  "nbformat_minor": 0,
  "metadata": {
    "colab": {
      "name": "朴素贝叶斯.ipynb",
      "provenance": []
    },
    "kernelspec": {
      "name": "python3",
      "display_name": "Python 3"
    },
    "language_info": {
      "name": "python"
    }
  },
  "cells": [
    {
      "cell_type": "code",
      "metadata": {
        "colab": {
          "base_uri": "https://localhost:8080/"
        },
        "id": "jCUT9KaUsD8b",
        "outputId": "ea108780-d522-432c-bd9b-4ee6eff09e1f"
      },
      "source": [
        "# 导入数据\n",
        "from sklearn import datasets\n",
        "iris = datasets.load_iris()\n",
        "x = iris.data\n",
        "y = iris.target\n",
        "# 数据分类\n",
        "from sklearn.model_selection import train_test_split\n",
        "x_train, x_test, y_train, y_test = train_test_split(x, y, test_size=0.3, random_state=0)\n",
        "# 模型训练与预测\n",
        "from sklearn.naive_bayes import MultinomialNB, GaussianNB\n",
        "Bys = GaussianNB(var_smoothing=1e-8)\n",
        "Bys.fit(x_train,y_train)\n",
        "import numpy as np\n",
        "from sklearn import metrics\n",
        "pred = Bys.predict(x_test)\n",
        "accuracy = metrics.accuracy_score(y_test,pred)\n",
        "print(accuracy)"
      ],
      "execution_count": 1,
      "outputs": [
        {
          "output_type": "stream",
          "text": [
            "1.0\n"
          ],
          "name": "stdout"
        }
      ]
    }
  ]
}