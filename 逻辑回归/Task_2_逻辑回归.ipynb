{
  "nbformat": 4,
  "nbformat_minor": 0,
  "metadata": {
    "colab": {
      "name": "Task 2 逻辑回归.ipynb",
      "provenance": []
    },
    "kernelspec": {
      "name": "python3",
      "display_name": "Python 3"
    },
    "language_info": {
      "name": "python"
    },
    "accelerator": "GPU"
  },
  "cells": [
    {
      "cell_type": "code",
      "metadata": {
        "id": "moPHTEUWZJCq"
      },
      "source": [
        "# 导入数据\n",
        "from sklearn.datasets import load_iris\n",
        "iris = load_iris()"
      ],
      "execution_count": 1,
      "outputs": []
    },
    {
      "cell_type": "code",
      "metadata": {
        "colab": {
          "base_uri": "https://localhost:8080/"
        },
        "id": "05KUKatyZl3G",
        "outputId": "814ffc0f-6bb9-49b9-9f10-c77d2c3dd2cf"
      },
      "source": [
        "X = iris.data[:,:2]\n",
        "Y = iris.target\n",
        "\n",
        "# 将数据划分为训练集和测试集\n",
        "from sklearn.model_selection import train_test_split\n",
        "x_train,x_test,y_train,y_test = train_test_split(X,Y,test_size=0.2,random_state=0)\n",
        "\n",
        "# 导入模型，调用逻辑回归 LogisticRegression()函数\n",
        "from sklearn.linear_model import LogisticRegression\n",
        "lr = LogisticRegression(penalty='l2',solver='newton-cg',multi_class='multinomial')\n",
        "lr.fit(x_train,y_train)"
      ],
      "execution_count": 2,
      "outputs": [
        {
          "output_type": "execute_result",
          "data": {
            "text/plain": [
              "LogisticRegression(C=1.0, class_weight=None, dual=False, fit_intercept=True,\n",
              "                   intercept_scaling=1, l1_ratio=None, max_iter=100,\n",
              "                   multi_class='multinomial', n_jobs=None, penalty='l2',\n",
              "                   random_state=None, solver='newton-cg', tol=0.0001, verbose=0,\n",
              "                   warm_start=False)"
            ]
          },
          "metadata": {
            "tags": []
          },
          "execution_count": 2
        }
      ]
    },
    {
      "cell_type": "code",
      "metadata": {
        "colab": {
          "base_uri": "https://localhost:8080/"
        },
        "id": "wBiV4_bJZu9u",
        "outputId": "bf4f5f0f-d1b1-4c2d-a7f6-2c1c8462d9e4"
      },
      "source": [
        "print(type(X))\n",
        "print(X[0])"
      ],
      "execution_count": 4,
      "outputs": [
        {
          "output_type": "stream",
          "text": [
            "<class 'numpy.ndarray'>\n",
            "[5.1 3.5]\n"
          ],
          "name": "stdout"
        }
      ]
    },
    {
      "cell_type": "code",
      "metadata": {
        "colab": {
          "base_uri": "https://localhost:8080/"
        },
        "id": "6E--nUtbam-n",
        "outputId": "38553b09-ea52-4a7e-a7bd-343338d3e73a"
      },
      "source": [
        "# 对模型进行评估\n",
        "print('逻辑回归训练集准确率：%.3f'% lr.score(x_train,y_train))\n",
        "print('逻辑回归测试集准确率：%.3f'% lr.score(x_test,y_test))\n",
        "from sklearn import metrics\n",
        "pred = lr.predict(x_test)\n",
        "accuracy = metrics.accuracy_score(y_test,pred)\n",
        "print('逻辑回归模型准确率：%.3f'% accuracy)"
      ],
      "execution_count": 5,
      "outputs": [
        {
          "output_type": "stream",
          "text": [
            "逻辑回归训练集准确率：0.850\n",
            "逻辑回归测试集准确率：0.733\n",
            "逻辑回归模型准确率：0.733\n"
          ],
          "name": "stdout"
        }
      ]
    },
    {
      "cell_type": "code",
      "metadata": {
        "colab": {
          "base_uri": "https://localhost:8080/",
          "height": 335
        },
        "id": "Go1T--f1araE",
        "outputId": "17e29a83-363d-43ad-d55e-0e3a09807469"
      },
      "source": [
        "import numpy as np\n",
        "lx1, rx1 = X[:,0].min() - 0.5,X[:,0].max() + 0.5\n",
        "lx2, rx2 = X[:,1].min() - 0.5,X[:,1].max() + 0.5\n",
        "h = 0.02\n",
        "x1,x2 = np.meshgrid(np.arange(lx1,rx1,h),np.arange(lx2,rx2,h))\n",
        "grid_test = np.stack((x1.flat,x2.flat),axis = 1)\n",
        "grid_pred = lr.predict(grid_test)\n",
        "grid_pred = grid_pred.reshape(x1.shape)\n",
        "import matplotlib.pyplot as plt\n",
        "import matplotlib as mpl\n",
        "plt.figure(1,figsize=(6,5))\n",
        "cm_light = mpl.colors.ListedColormap(['#A0FFA0', '#FFA0A0', '#A0A0FF'])\n",
        "plt.pcolormesh(x1,x2,grid_pred,cmap=cm_light)\n",
        "plt.scatter(X[:50, 0], X[:50, 1], marker = '*', edgecolors='red', label='setosa')\n",
        "plt.scatter(X[50:100, 0], X[50:100, 1], marker = '^', edgecolors='k', label='versicolor')\n",
        "plt.scatter(X[100:150, 0], X[100:150, 1], marker = 'o', edgecolors='k', label='virginica')\n",
        "plt.xlabel('Calyx length-Sepal length')\n",
        "plt.ylabel('Calyx width-Sepal width')\n",
        "plt.legend(loc = 2)\n",
        "plt.xlim(lx1.min(), rx1.max())\n",
        "plt.ylim(lx2.min(), rx2.max())\n",
        "plt.title(\"Logical regression of iris classification results\", fontsize = 15)\n",
        "plt.xticks(())\n",
        "plt.yticks(())\n",
        "plt.grid()\n",
        "plt.show()"
      ],
      "execution_count": 6,
      "outputs": [
        {
          "output_type": "display_data",
          "data": {
            "image/png": "[encoded data removed]",
            "text/plain": [
              "<Figure size 432x360 with 1 Axes>"
            ]
          },
          "metadata": {
            "tags": []
          }
        }
      ]
    }
  ]
}