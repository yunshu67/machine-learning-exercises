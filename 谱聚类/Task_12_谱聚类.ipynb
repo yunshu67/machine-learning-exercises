{
  "nbformat": 4,
  "nbformat_minor": 0,
  "metadata": {
    "kernelspec": {
      "language": "python",
      "display_name": "Python 3",
      "name": "python3"
    },
    "language_info": {
      "codemirror_mode": {
        "name": "ipython",
        "version": 3
      },
      "name": "python",
      "mimetype": "text/x-python",
      "nbconvert_exporter": "python",
      "file_extension": ".py",
      "version": "3.5.2",
      "pygments_lexer": "ipython3"
    },
    "colab": {
      "name": "Task 12 谱聚类.ipynb",
      "provenance": []
    }
  },
  "cells": [
    {
      "cell_type": "markdown",
      "metadata": {
        "_id": "14BB7692E3414BEA85D1D1D78F96E309",
        "jupyter": {},
        "tags": [],
        "id": "F59E989EE63D4A69ABD359FF8747A523",
        "trusted": true
      },
      "source": [
        "# 谱聚类简介\n",
        "谱聚类是从图论中演化出来的算法，后来在聚类中得到了广泛的应用。它的主要思想是把所有的数据看作空间中的点，这些点之间可以用边连接起来。距离较远的两个点之间的边权重值较低，而距离较近的两个点之间的边权重值较高，通过对所有数据点组成的图进行切图，让切图后不同的子图间边权重和尽可能的低，而子图内的边权重和尽可能的高，从而达到聚类的目的。"
      ]
    },
    {
      "cell_type": "markdown",
      "metadata": {
        "_id": "BC0852107B564EAFA590545A71B24D0E",
        "jupyter": {},
        "tags": [],
        "id": "110EA8CC82FC48A19397A67B71899F62",
        "trusted": true
      },
      "source": [
        "# 谱聚类原理\n",
        "谱聚类算法是一个使用起来较为容易但是从原理上不是那么容易理解的算法。对于谱聚类算法我们可以归纳为以下的步骤：\n",
        "输入：样本集D=(x1,x2,...,xn)，相似矩阵的生成方式, 降维后的维度k1, 聚类方法，聚类后的维度k2\n",
        "输出： 簇划分C(c1,c2,...ck2).　\n",
        "1) 根据输入的相似矩阵的生成方式构建样本的相似矩阵S\n",
        "2）根据相似矩阵S构建邻接矩阵W，构建度矩阵D\n",
        "3）计算出拉普拉斯矩阵L\n",
        "4）构建标准化后的拉普拉斯矩阵D−1/2LD−1/2\n",
        "5）计算D−1/2LD−1/2最小的k1个特征值所各自对应的特征向量f\n",
        "6) 将各自对应的特征向量f组成的矩阵按行标准化，最终组成n×k1维的特征矩阵F\n",
        "7）对F中的每一行作为一个k1维的样本，共n个样本，用输入的聚类方法进行聚类，聚类维数为k2。\n",
        "8）得到簇划分C(c1,c2,...ck2).　\n",
        "谱聚类算法的具体原理，需要一定图论相关的基础，就不在此展开了。详细解释可以参考斯坦佛大学CS224w课程第五课的内容，课程的课件可以参见【参考链接2】，也可以阅读【参考链接3】对课件内容进行理解。"
      ]
    },
    {
      "cell_type": "markdown",
      "metadata": {
        "_id": "41DD3333424D4C1F99735911E5365D4C",
        "jupyter": {},
        "tags": [],
        "id": "B9A2F0B0BFE24A6B87AFBA2853E631B5",
        "trusted": true
      },
      "source": [
        "# 谱聚类算法总结\n",
        "## 谱聚类的主要优点\n",
        "1. 谱聚类只需要数据之间的相似度矩阵，因此对于处理稀疏数据的聚类很有效。这点传统聚类算法比如K-Means很难做到\n",
        "2. 由于使用了降维，因此在处理高维数据聚类时的复杂度比传统聚类算法好。\n",
        "\n",
        "## 谱聚类的主要缺点\n",
        "1.  如果最终聚类的维度非常高，则由于降维的幅度不够，谱聚类的运行速度和最后的聚类效果均不好。\n",
        "2.  聚类效果依赖于相似矩阵，不同的相似矩阵得到的最终聚类效果可能很不同。"
      ]
    },
    {
      "cell_type": "markdown",
      "metadata": {
        "_id": "7008B676565048ADAAA8F12A19E5EA53",
        "jupyter": {},
        "tags": [],
        "id": "D05705D3225D42C080DCD09F66D729F8",
        "trusted": true
      },
      "source": [
        "# 谱聚类在Sklearn中的实现\n",
        "在sklearn中提供了谱聚类算法的实现：\n",
        "```\n",
        "sklearn.cluster.SpectralClustering(n_clusters=8, *, eigen_solver=None, n_components=None, random_state=None, n_init=10, gamma=1.0, affinity='rbf', n_neighbors=10, eigen_tol=0.0, assign_labels='kmeans', degree=3, coef0=1, kernel_params=None, n_jobs=None, verbose=False)\n",
        "```\n",
        "## 参数详解：\n",
        "'n_clusters' 是投影子空间的维度，即聚类后的簇的数量也是原理中的k\n",
        "'eigen_solver' 是所使用的特征值分解策略，可选参数有'arpack', 'lobpcg', 'amg'。AMG 需要安装 pyamg。它可以在非常大的稀疏问题上更快，但也可能导致不稳定性。如果没有，则也可以使用'arpack'\n",
        "'random_state' 是一个伪随机数生成器，用于K-means中的特征向量分解。\n",
        "'Gamma' 表示的 rbf, poly, sigmoid, laplacian and chi2 kernels的核系数\n",
        "这里仅列举了一部分使用的参数，完整参数可参考官方文档即【参考链接4】也可以阅读【参考链接5】对参数的含义和原理进行理解。"
      ]
    },
    {
      "cell_type": "markdown",
      "metadata": {
        "_id": "84FA60DD497C4DF0AA088A4E0D93F020",
        "jupyter": {},
        "tags": [],
        "id": "EC288B8CB2C24D46B1BDEB2196852B79",
        "trusted": true
      },
      "source": [
        "# 谱聚类的应用\n",
        "在这一部分中将使用sklearn中make_blobs来模拟生成一组数据并进行聚类分析。"
      ]
    },
    {
      "cell_type": "code",
      "metadata": {
        "_id": "559517ACFFF7453FA0885E2ABD2C74A2",
        "jupyter": {},
        "tags": [],
        "id": "F4EF11B61B8046EE888F1E2B966DD341",
        "trusted": true,
        "colab": {
          "base_uri": "https://localhost:8080/",
          "height": 709
        },
        "outputId": "b03f429a-994c-4548-bf53-fe225322cd7b"
      },
      "source": [
        "# 导入相关模块和导入数据集\n",
        "import numpy as np\n",
        "from sklearn.cluster import spectral_clustering\n",
        "from sklearn.datasets import make_blobs\n",
        "from sklearn import metrics\n",
        "# 生成样本数据\n",
        "centers = [[1, 1], [-1, -1], [1, -1]]\n",
        "X, _ = make_blobs(n_samples=10000, centers=centers, cluster_std=0.6)\n",
        "#变换成矩阵，输入必须是对称矩阵\n",
        "metrics_metrix = (-1 * metrics.pairwise.pairwise_distances(X)).astype(np.int32)\n",
        "metrics_metrix += -1 * metrics_metrix.min()\n",
        "#设置谱聚类函数\n",
        "n_clusters_= 4\n",
        "labels = spectral_clustering(metrics_metrix,n_clusters=n_clusters_)\n",
        "import matplotlib.pyplot as plt\n",
        "from itertools import cycle\n",
        "# 设置输出中文\n",
        "# plt.rcParams['font.sans-serif']=['SimHei']\n",
        "# plt.rcParams['axes.unicode_minus'] =False \n",
        "# 对算法聚类结果进行可视化\n",
        "colors = cycle('bgrcmykbgrcmykbgrcmykbgrcmyk')\n",
        "for k, col in zip(range(n_clusters_), colors):\n",
        "    #根据lables中的值是否等于k，重新组成一个True、False的数组\n",
        "    my_members = labels == k\n",
        "    #X[my_members, 0] 取出my_members对应位置为True的值的横坐标\n",
        "    plt.plot(X[my_members, 0], X[my_members, 1], col + '.')\n",
        "plt.title(\"谱聚类分类结果\")\n",
        "plt.show()\n"
      ],
      "execution_count": 1,
      "outputs": [
        {
          "output_type": "stream",
          "text": [
            "/usr/local/lib/python3.7/dist-packages/matplotlib/backends/backend_agg.py:214: RuntimeWarning: Glyph 35889 missing from current font.\n",
            "  font.set_text(s, 0.0, flags=flags)\n",
            "/usr/local/lib/python3.7/dist-packages/matplotlib/backends/backend_agg.py:214: RuntimeWarning: Glyph 32858 missing from current font.\n",
            "  font.set_text(s, 0.0, flags=flags)\n",
            "/usr/local/lib/python3.7/dist-packages/matplotlib/backends/backend_agg.py:214: RuntimeWarning: Glyph 31867 missing from current font.\n",
            "  font.set_text(s, 0.0, flags=flags)\n",
            "/usr/local/lib/python3.7/dist-packages/matplotlib/backends/backend_agg.py:214: RuntimeWarning: Glyph 20998 missing from current font.\n",
            "  font.set_text(s, 0.0, flags=flags)\n",
            "/usr/local/lib/python3.7/dist-packages/matplotlib/backends/backend_agg.py:214: RuntimeWarning: Glyph 32467 missing from current font.\n",
            "  font.set_text(s, 0.0, flags=flags)\n",
            "/usr/local/lib/python3.7/dist-packages/matplotlib/backends/backend_agg.py:214: RuntimeWarning: Glyph 26524 missing from current font.\n",
            "  font.set_text(s, 0.0, flags=flags)\n",
            "/usr/local/lib/python3.7/dist-packages/matplotlib/backends/backend_agg.py:183: RuntimeWarning: Glyph 35889 missing from current font.\n",
            "  font.set_text(s, 0, flags=flags)\n",
            "/usr/local/lib/python3.7/dist-packages/matplotlib/backends/backend_agg.py:183: RuntimeWarning: Glyph 32858 missing from current font.\n",
            "  font.set_text(s, 0, flags=flags)\n",
            "/usr/local/lib/python3.7/dist-packages/matplotlib/backends/backend_agg.py:183: RuntimeWarning: Glyph 31867 missing from current font.\n",
            "  font.set_text(s, 0, flags=flags)\n",
            "/usr/local/lib/python3.7/dist-packages/matplotlib/backends/backend_agg.py:183: RuntimeWarning: Glyph 20998 missing from current font.\n",
            "  font.set_text(s, 0, flags=flags)\n",
            "/usr/local/lib/python3.7/dist-packages/matplotlib/backends/backend_agg.py:183: RuntimeWarning: Glyph 32467 missing from current font.\n",
            "  font.set_text(s, 0, flags=flags)\n",
            "/usr/local/lib/python3.7/dist-packages/matplotlib/backends/backend_agg.py:183: RuntimeWarning: Glyph 26524 missing from current font.\n",
            "  font.set_text(s, 0, flags=flags)\n"
          ],
          "name": "stderr"
        },
        {
          "output_type": "display_data",
          "data": {
            "image/png": "[encoded data removed]",
            "text/plain": [
              "<Figure size 432x288 with 1 Axes>"
            ]
          },
          "metadata": {
            "tags": [],
            "needs_background": "light"
          }
        }
      ]
    },
    {
      "cell_type": "markdown",
      "metadata": {
        "_id": "007862E8E375421A84769EC1AF631158",
        "jupyter": {},
        "tags": [],
        "id": "5CBBC5BFA7E44CE381035008315AFE9E",
        "trusted": true,
        "mdEditEnable": true
      },
      "source": [
        "# 练习题\n",
        "使用sklearn提供的谱聚类的API对鸢尾花数据集的数据进行预测，并尝试将预测的结果进行分析。鸢尾花的数据集使用方法如下:\n",
        "```\n",
        "from sklearn.datasets import load_iris\n",
        "iris = load_iris()\n",
        "```"
      ]
    },
    {
      "cell_type": "markdown",
      "metadata": {
        "_id": "A6694709CC5E4C68933B408F852B9EB8",
        "jupyter": {},
        "tags": [],
        "id": "A2F5C9BE271C471A864D37B5F89709B9",
        "trusted": true
      },
      "source": [
        "# 参考链接\n",
        "1.     https://zhuanlan.zhihu.com/p/76470230\n",
        "2.     http://snap.stanford.edu/class/cs224w-2019/slides/05-spectral.pdf\n",
        "3.     https://www.zhihu.com/topic/20055256/hot\n",
        "4.     https://scikit-learn.org/stable/modules/generated/sklearn.cluster.SpectralClustering.html?highlight=clustering#sklearn.cluster.SpectralClustering.fit\n",
        "5.     https://blog.csdn.net/weixin_36474809/article/details/89927502"
      ]
    },
    {
      "cell_type": "code",
      "metadata": {
        "_id": "F260C13E3439483D8A96BC2384512784",
        "jupyter": {},
        "tags": [],
        "id": "90F28AA2970E4188803C72F78941EBBE",
        "trusted": true
      },
      "source": [
        ""
      ],
      "execution_count": 1,
      "outputs": []
    }
  ]
}